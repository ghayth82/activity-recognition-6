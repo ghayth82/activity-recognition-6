{
 "cells": [
  {
   "cell_type": "code",
   "execution_count": 1,
   "metadata": {},
   "outputs": [],
   "source": [
    "%matplotlib inline\n",
    "\n",
    "import matplotlib\n",
    "import numpy as np\n",
    "import matplotlib.pyplot as plt\n",
    "from matplotlib.ticker import FuncFormatter\n",
    "import datareader"
   ]
  },
  {
   "cell_type": "code",
   "execution_count": 2,
   "metadata": {},
   "outputs": [],
   "source": [
    "from activities import Activities"
   ]
  },
  {
   "cell_type": "code",
   "execution_count": 3,
   "metadata": {},
   "outputs": [],
   "source": [
    "from sklearn import tree\n",
    "from sklearn.model_selection import cross_val_score\n",
    "from sklearn.metrics import confusion_matrix\n",
    "import itertools\n",
    "from sklearn.model_selection import train_test_split"
   ]
  },
  {
   "cell_type": "markdown",
   "metadata": {},
   "source": [
    "## Constants"
   ]
  },
  {
   "cell_type": "code",
   "execution_count": 4,
   "metadata": {},
   "outputs": [],
   "source": [
    "sample_frequency = 200 # Hz\n",
    "chunk_size = 5 # In seconds\n",
    "seed = 1"
   ]
  },
  {
   "cell_type": "markdown",
   "metadata": {},
   "source": [
    "## Data reading"
   ]
  },
  {
   "cell_type": "code",
   "execution_count": 5,
   "metadata": {},
   "outputs": [
    {
     "name": "stdout",
     "output_type": "stream",
     "text": [
      "data/2018-06-1017.48.48 running last few seconds stair .csv Activities.RUNNING\n",
      "data/2018-06-1211.41.13 cycling .csv Activities.CYCLING\n",
      "data/2018-06-1018.05.57 fast running .csv Activities.RUNNING\n",
      "data/2018-06-1214.23.46 Walking .csv Activities.WALKING\n",
      "data/2018-06-2012.25.52 sitting.csv Activities.SITTING\n",
      "data/2018-06-2011.12.35 down stairs.csv Activities.STAIRS_DOWN\n",
      "data/2018-06-2012.53.55down stairs.csv Activities.STAIRS_DOWN\n",
      "data/2018-06-2016.19.41down stairs.csv Activities.STAIRS_DOWN\n",
      "data/2018-06-2016.20.39 walking .csv Activities.WALKING\n",
      "data/2018-06-2016.25.57cycling.csv Activities.CYCLING\n",
      "data/2018-06-2113.03.21running.csv Activities.RUNNING\n",
      "data/2018-06-2213.53.38sitting.csv Activities.SITTING\n",
      "data/2018-06-2214.56.48stairs down .csv Activities.STAIRS_DOWN\n"
     ]
    }
   ],
   "source": [
    "used_files = [('data/2018-06-1017.48.48 running last few seconds stair .csv', Activities.RUNNING), ('data/2018-06-1211.41.13 cycling .csv', Activities.CYCLING), ('data/2018-06-1018.05.57 fast running .csv', Activities.RUNNING), ('data/2018-06-1214.23.46 Walking .csv', Activities.WALKING), ('data/2018-06-2012.25.52 sitting.csv', Activities.SITTING), ('data/2018-06-2011.12.35 down stairs.csv', Activities.STAIRS_DOWN), ('data/2018-06-2012.53.55down stairs.csv', Activities.STAIRS_DOWN), ('data/2018-06-2016.19.41down stairs.csv', Activities.STAIRS_DOWN), ('data/2018-06-2016.20.39 walking .csv', Activities.WALKING), ('data/2018-06-2016.25.57cycling.csv', Activities.CYCLING), ('data/2018-06-2113.03.21running.csv', Activities.RUNNING), ('data/2018-06-2213.53.38sitting.csv', Activities.SITTING), ('data/2018-06-2214.56.48stairs down .csv', Activities.STAIRS_DOWN)]\n",
    "dataset, labels = datareader.get_dataset(used_files, fs = sample_frequency, chunk_size = chunk_size)\n",
    "dataset = np.array(dataset)\n",
    "labels = np.array(labels)"
   ]
  },
  {
   "cell_type": "code",
   "execution_count": 6,
   "metadata": {},
   "outputs": [
    {
     "name": "stdout",
     "output_type": "stream",
     "text": [
      "Got 774 chunks of 5 seconds each for a total of 3870 seconds of data.\n",
      "Activities.WALKING 595\n",
      "Activities.RUNNING 1140\n",
      "Activities.CYCLING 1130\n",
      "Activities.SITTING 870\n",
      "Activities.STAIRS_DOWN 135\n"
     ]
    }
   ],
   "source": [
    "print(\"Got\", labels.shape[0], \"chunks of\", chunk_size, \"seconds each for a total of\", chunk_size*labels.shape[0], \"seconds of data.\")\n",
    "for activity in Activities:\n",
    "    print(activity,np.count_nonzero(labels == activity)*5)"
   ]
  },
  {
   "cell_type": "markdown",
   "metadata": {},
   "source": [
    "## Preprocessing"
   ]
  },
  {
   "cell_type": "code",
   "execution_count": 7,
   "metadata": {},
   "outputs": [],
   "source": [
    "dominating_frequency, dominating_frequency_unlabeld = datareader.generate_statistics(dataset,labels)\n",
    "labels_int = np.array([x.value for x in labels])"
   ]
  },
  {
   "cell_type": "markdown",
   "metadata": {},
   "source": [
    "## Classifier"
   ]
  },
  {
   "cell_type": "code",
   "execution_count": 8,
   "metadata": {},
   "outputs": [
    {
     "name": "stdout",
     "output_type": "stream",
     "text": [
      "82.28%\n",
      "81.01%\n",
      "78.48%\n",
      "83.54%\n",
      "85.90%\n",
      "89.74%\n",
      "90.91%\n",
      "84.21%\n",
      "86.67%\n",
      "87.84%\n",
      "Accuracy: 85.06% (+/- 3.71%)\n"
     ]
    }
   ],
   "source": [
    "from sklearn.model_selection import StratifiedKFold\n",
    "from sklearn.metrics import accuracy_score\n",
    "kfold = StratifiedKFold(n_splits=10, shuffle=True, random_state=seed)\n",
    "cvscores = []\n",
    "for train, test in kfold.split(dominating_frequency_unlabeld, labels_int):\n",
    "    clf = tree.DecisionTreeClassifier()\n",
    "    clf.fit(dominating_frequency_unlabeld[train], labels_int[train])\n",
    "    scores = accuracy_score(labels_int[test], clf.predict(dominating_frequency_unlabeld[test]))\n",
    "    print(\"%.2f%%\" % (scores*100))\n",
    "    cvscores.append(scores * 100)\n",
    "print(\"Accuracy: %.2f%% (+/- %.2f%%)\" % (np.mean(cvscores), np.std(cvscores)))"
   ]
  },
  {
   "cell_type": "markdown",
   "metadata": {},
   "source": [
    "### Confusion matrix"
   ]
  },
  {
   "cell_type": "code",
   "execution_count": 9,
   "metadata": {},
   "outputs": [
    {
     "data": {
      "image/png": "[encoded data removed]",
      "text/plain": [
       "<Figure size 432x288 with 2 Axes>"
      ]
     },
     "metadata": {},
     "output_type": "display_data"
    }
   ],
   "source": [
    "clf = tree.DecisionTreeClassifier()\n",
    "X_train, X_test, y_train, y_test = train_test_split(dominating_frequency_unlabeld, labels_int, test_size = 0.25, random_state=seed)\n",
    "y_pred = clf.fit(X_train, y_train).predict(X_test)\n",
    "cm = confusion_matrix(y_test, y_pred)\n",
    "cm = cm.astype('float') / cm.sum(axis=1)[:, np.newaxis]\n",
    "\n",
    "classes = [str(activity).split(\".\")[1] for activity in Activities]\n",
    "plt.imshow(cm, interpolation='nearest', cmap=plt.cm.Blues)\n",
    "plt.title(\"Confusion matrix\")\n",
    "plt.colorbar()\n",
    "tick_marks = np.arange(len(classes))\n",
    "plt.xticks(tick_marks, classes, rotation=45)\n",
    "plt.yticks(tick_marks, classes)\n",
    "\n",
    "fmt= '.2f'\n",
    "thresh = cm.max() / 2.\n",
    "for i, j in itertools.product(range(cm.shape[0]), range(cm.shape[1])):\n",
    "    plt.text(j, i, format(cm[i, j], fmt),\n",
    "             horizontalalignment=\"center\",\n",
    "             color=\"white\" if cm[i, j] > thresh else \"black\")\n",
    "\n",
    "plt.tight_layout()\n",
    "plt.ylabel('True label')\n",
    "plt.xlabel('Predicted label')\n",
    "plt.savefig(\"figures/conf_matrix_dt.png\")"
   ]
  },
  {
   "cell_type": "markdown",
   "metadata": {},
   "source": [
    "# LSTM solution"
   ]
  },
  {
   "cell_type": "markdown",
   "metadata": {},
   "source": [
    "### Constants "
   ]
  },
  {
   "cell_type": "code",
   "execution_count": 10,
   "metadata": {},
   "outputs": [],
   "source": [
    "epochs = 5\n",
    "lstm_units = 64"
   ]
  },
  {
   "cell_type": "code",
   "execution_count": 11,
   "metadata": {},
   "outputs": [
    {
     "name": "stderr",
     "output_type": "stream",
     "text": [
      "/usr/lib/python3.6/site-packages/h5py/__init__.py:36: FutureWarning: Conversion of the second argument of issubdtype from `float` to `np.floating` is deprecated. In future, it will be treated as `np.float64 == np.dtype(float).type`.\n",
      "  from ._conv import register_converters as _register_converters\n",
      "Using TensorFlow backend.\n"
     ]
    }
   ],
   "source": [
    "from keras.models import Sequential, Model\n",
    "from keras.layers import Dense, Dropout\n",
    "from keras.layers import Embedding\n",
    "from keras.layers import LSTM, Input, Activation\n",
    "from sklearn.utils import class_weight\n",
    "from sklearn.preprocessing import OneHotEncoder\n",
    "enc = OneHotEncoder(sparse=False)"
   ]
  },
  {
   "cell_type": "markdown",
   "metadata": {},
   "source": [
    "### The model"
   ]
  },
  {
   "cell_type": "code",
   "execution_count": 12,
   "metadata": {},
   "outputs": [],
   "source": [
    "def get_model():\n",
    "    model = Sequential()\n",
    "    model.add(LSTM(lstm_units, input_shape=(3, 1000)))\n",
    "    model.add(Dropout(0.2))\n",
    "    model.add(Dense(len(Activities), activation='sigmoid'))\n",
    "\n",
    "    model.compile(loss='categorical_crossentropy',\n",
    "                  optimizer='rmsprop', metrics=['accuracy'])\n",
    "    return model\n",
    "model = get_model()"
   ]
  },
  {
   "cell_type": "markdown",
   "metadata": {},
   "source": [
    "### Prepairing data for the model"
   ]
  },
  {
   "cell_type": "code",
   "execution_count": 13,
   "metadata": {},
   "outputs": [
    {
     "name": "stdout",
     "output_type": "stream",
     "text": [
      "{0: 0.1400600643283637, 1: 0.07310152480296177, 2: 0.07374844095166054, 3: 0.09578820491422577, 4: 0.6173017650027882}\n"
     ]
    }
   ],
   "source": [
    "# Try to keep categories equally important\n",
    "sum = 0\n",
    "class_weights = {}\n",
    "for i,activity in enumerate(Activities):\n",
    "    class_weights[i] = 1/np.count_nonzero(labels == activity)\n",
    "    sum+=class_weights[i]\n",
    "for i,activity in enumerate(Activities):\n",
    "    class_weights[i]/=sum\n",
    "print(class_weights)"
   ]
  },
  {
   "cell_type": "markdown",
   "metadata": {},
   "source": [
    "### Confusion matrix"
   ]
  },
  {
   "cell_type": "code",
   "execution_count": 18,
   "metadata": {},
   "outputs": [
    {
     "name": "stdout",
     "output_type": "stream",
     "text": [
      "Train on 580 samples, validate on 194 samples\n",
      "Epoch 1/5\n",
      "580/580 [==============================] - 2s 3ms/step - loss: 0.1508 - acc: 0.7517 - val_loss: 1.1625 - val_acc: 0.8711\n",
      "Epoch 2/5\n",
      "580/580 [==============================] - 0s 647us/step - loss: 0.1176 - acc: 0.9241 - val_loss: 1.0260 - val_acc: 0.8814\n",
      "Epoch 3/5\n",
      "580/580 [==============================] - 0s 712us/step - loss: 0.0990 - acc: 0.9397 - val_loss: 0.9225 - val_acc: 0.9021\n",
      "Epoch 4/5\n",
      "580/580 [==============================] - 0s 685us/step - loss: 0.0838 - acc: 0.9569 - val_loss: 0.8289 - val_acc: 0.9175\n",
      "Epoch 5/5\n",
      "580/580 [==============================] - 0s 694us/step - loss: 0.0677 - acc: 0.9569 - val_loss: 0.7489 - val_acc: 0.9227\n"
     ]
    },
    {
     "data": {
      "image/png": "[encoded data removed]",
      "text/plain": [
       "<Figure size 432x288 with 2 Axes>"
      ]
     },
     "metadata": {},
     "output_type": "display_data"
    }
   ],
   "source": [
    "# Training on test data\n",
    "y_categorical = enc.fit_transform(labels_int.reshape((labels_int.shape[0]),1))\n",
    "X_train, X_test, y_train, y_test = train_test_split(dataset, y_categorical, test_size = 0.25, random_state=seed)\n",
    "\n",
    "model = get_model()\n",
    "model.fit(X_train, y_train, epochs = epochs,class_weight=class_weights, validation_data=(X_test, y_test))\n",
    "\n",
    "# Generating confusion matrix\n",
    "y_pred = model.predict(X_test)\n",
    "y_test_non_category = [ np.argmax(t) for t in y_test]\n",
    "y_predict_non_category = [ np.argmax(t) for t in y_pred]\n",
    "\n",
    "cm = confusion_matrix(y_test_non_category, y_predict_non_category)\n",
    "cm = cm.astype('float') / cm.sum(axis=1)[:, np.newaxis]\n",
    "\n",
    "# Plotting\n",
    "classes = [str(activity).split(\".\")[1] for activity in Activities]\n",
    "plt.imshow(cm, interpolation='nearest', cmap=plt.cm.Blues)\n",
    "plt.title(\"Confusion matrix\")\n",
    "plt.colorbar()\n",
    "tick_marks = np.arange(len(classes))\n",
    "plt.xticks(tick_marks, classes, rotation=45)\n",
    "plt.yticks(tick_marks, classes)\n",
    "\n",
    "fmt= '.2f'\n",
    "thresh = cm.max() / 2.\n",
    "for i, j in itertools.product(range(cm.shape[0]), range(cm.shape[1])):\n",
    "    plt.text(j, i, format(cm[i, j], fmt),\n",
    "             horizontalalignment=\"center\",\n",
    "             color=\"white\" if cm[i, j] > thresh else \"black\")\n",
    "\n",
    "plt.tight_layout()\n",
    "plt.ylabel('True label')\n",
    "plt.xlabel('Predicted label')\n",
    "plt.savefig(\"figures/conf_matrix_lstm.png\")"
   ]
  },
  {
   "cell_type": "code",
   "execution_count": 15,
   "metadata": {},
   "outputs": [
    {
     "name": "stdout",
     "output_type": "stream",
     "text": [
      "Train on 695 samples, validate on 79 samples\n",
      "Epoch 1/5\n",
      "695/695 [==============================] - 1s 2ms/step - loss: 0.1436 - acc: 0.7813 - val_loss: 1.1445 - val_acc: 0.8228\n",
      "Epoch 2/5\n",
      "695/695 [==============================] - 0s 533us/step - loss: 0.1091 - acc: 0.9237 - val_loss: 1.0074 - val_acc: 0.8734\n",
      "Epoch 3/5\n",
      "695/695 [==============================] - 0s 543us/step - loss: 0.0895 - acc: 0.9309 - val_loss: 0.9130 - val_acc: 0.8861\n",
      "Epoch 4/5\n",
      "695/695 [==============================] - 0s 574us/step - loss: 0.0726 - acc: 0.9482 - val_loss: 0.8209 - val_acc: 0.8861\n",
      "Epoch 5/5\n",
      "695/695 [==============================] - 0s 527us/step - loss: 0.0592 - acc: 0.9597 - val_loss: 0.7326 - val_acc: 0.8734\n",
      "acc: 87.34%\n",
      "Train on 695 samples, validate on 79 samples\n",
      "Epoch 1/5\n",
      "695/695 [==============================] - 1s 2ms/step - loss: 0.1462 - acc: 0.7237 - val_loss: 1.1541 - val_acc: 0.8481\n",
      "Epoch 2/5\n",
      "695/695 [==============================] - 0s 605us/step - loss: 0.1099 - acc: 0.9396 - val_loss: 1.0112 - val_acc: 0.8608\n",
      "Epoch 3/5\n",
      "695/695 [==============================] - 0s 648us/step - loss: 0.0885 - acc: 0.9468 - val_loss: 0.9088 - val_acc: 0.8608\n",
      "Epoch 4/5\n",
      "695/695 [==============================] - 0s 613us/step - loss: 0.0708 - acc: 0.9568 - val_loss: 0.8219 - val_acc: 0.8734\n",
      "Epoch 5/5\n",
      "695/695 [==============================] - 0s 622us/step - loss: 0.0567 - acc: 0.9597 - val_loss: 0.7505 - val_acc: 0.8734\n",
      "acc: 87.34%\n",
      "Train on 695 samples, validate on 79 samples\n",
      "Epoch 1/5\n",
      "695/695 [==============================] - 1s 2ms/step - loss: 0.1439 - acc: 0.7813 - val_loss: 1.1521 - val_acc: 0.8101\n",
      "Epoch 2/5\n",
      "695/695 [==============================] - 0s 613us/step - loss: 0.1094 - acc: 0.9094 - val_loss: 1.0051 - val_acc: 0.8987\n",
      "Epoch 3/5\n",
      "695/695 [==============================] - 1s 841us/step - loss: 0.0884 - acc: 0.9381 - val_loss: 0.8856 - val_acc: 0.9241\n",
      "Epoch 4/5\n",
      "695/695 [==============================] - 0s 613us/step - loss: 0.0699 - acc: 0.9554 - val_loss: 0.7849 - val_acc: 0.9241\n",
      "Epoch 5/5\n",
      "695/695 [==============================] - 0s 655us/step - loss: 0.0564 - acc: 0.9626 - val_loss: 0.6885 - val_acc: 0.9241\n",
      "acc: 92.41%\n",
      "Train on 695 samples, validate on 79 samples\n",
      "Epoch 1/5\n",
      "695/695 [==============================] - 1s 2ms/step - loss: 0.1459 - acc: 0.7597 - val_loss: 1.1777 - val_acc: 0.8354\n",
      "Epoch 2/5\n",
      "695/695 [==============================] - 0s 636us/step - loss: 0.1119 - acc: 0.9252 - val_loss: 1.0287 - val_acc: 0.8481\n",
      "Epoch 3/5\n",
      "695/695 [==============================] - 0s 679us/step - loss: 0.0912 - acc: 0.9468 - val_loss: 0.9186 - val_acc: 0.8734\n",
      "Epoch 4/5\n",
      "695/695 [==============================] - 0s 649us/step - loss: 0.0730 - acc: 0.9554 - val_loss: 0.8105 - val_acc: 0.8861\n",
      "Epoch 5/5\n",
      "695/695 [==============================] - 0s 651us/step - loss: 0.0591 - acc: 0.9583 - val_loss: 0.7284 - val_acc: 0.8861\n",
      "acc: 88.61%\n",
      "Train on 696 samples, validate on 78 samples\n",
      "Epoch 1/5\n",
      "696/696 [==============================] - 1s 2ms/step - loss: 0.1392 - acc: 0.7989 - val_loss: 1.0188 - val_acc: 0.9231\n",
      "Epoch 2/5\n",
      "696/696 [==============================] - 0s 661us/step - loss: 0.1041 - acc: 0.9296 - val_loss: 0.8785 - val_acc: 0.9231\n",
      "Epoch 3/5\n",
      "696/696 [==============================] - 1s 749us/step - loss: 0.0823 - acc: 0.9483 - val_loss: 0.7742 - val_acc: 0.9231\n",
      "Epoch 4/5\n",
      "696/696 [==============================] - 0s 593us/step - loss: 0.0666 - acc: 0.9540 - val_loss: 0.6817 - val_acc: 0.9231\n",
      "Epoch 5/5\n",
      "696/696 [==============================] - 0s 626us/step - loss: 0.0543 - acc: 0.9583 - val_loss: 0.6277 - val_acc: 0.9231\n",
      "acc: 92.31%\n",
      "Train on 696 samples, validate on 78 samples\n",
      "Epoch 1/5\n",
      "696/696 [==============================] - 2s 2ms/step - loss: 0.1443 - acc: 0.7385 - val_loss: 1.1615 - val_acc: 0.8333\n",
      "Epoch 2/5\n",
      "696/696 [==============================] - 1s 962us/step - loss: 0.1108 - acc: 0.9282 - val_loss: 1.0220 - val_acc: 0.8590\n",
      "Epoch 3/5\n",
      "696/696 [==============================] - 1s 1ms/step - loss: 0.0903 - acc: 0.9382 - val_loss: 0.9203 - val_acc: 0.8974\n",
      "Epoch 4/5\n",
      "696/696 [==============================] - 1s 1ms/step - loss: 0.0725 - acc: 0.9540 - val_loss: 0.8156 - val_acc: 0.8718\n",
      "Epoch 5/5\n",
      "696/696 [==============================] - 1s 739us/step - loss: 0.0585 - acc: 0.9612 - val_loss: 0.7120 - val_acc: 0.8846\n",
      "acc: 88.46%\n",
      "Train on 697 samples, validate on 77 samples\n",
      "Epoch 1/5\n",
      "697/697 [==============================] - 2s 2ms/step - loss: 0.1483 - acc: 0.7805 - val_loss: 1.1712 - val_acc: 0.8442\n",
      "Epoch 2/5\n",
      "697/697 [==============================] - 1s 762us/step - loss: 0.1151 - acc: 0.9211 - val_loss: 1.0368 - val_acc: 0.8701\n",
      "Epoch 3/5\n",
      "697/697 [==============================] - 1s 771us/step - loss: 0.0947 - acc: 0.9412 - val_loss: 0.9054 - val_acc: 0.8961\n",
      "Epoch 4/5\n",
      "697/697 [==============================] - 1s 960us/step - loss: 0.0757 - acc: 0.9541 - val_loss: 0.7931 - val_acc: 0.9091\n",
      "Epoch 5/5\n",
      "697/697 [==============================] - 1s 1ms/step - loss: 0.0602 - acc: 0.9613 - val_loss: 0.6816 - val_acc: 0.9221\n",
      "acc: 92.21%\n",
      "Train on 698 samples, validate on 76 samples\n",
      "Epoch 1/5\n",
      "698/698 [==============================] - 2s 2ms/step - loss: 0.1458 - acc: 0.7636 - val_loss: 1.1427 - val_acc: 0.8816\n",
      "Epoch 2/5\n",
      "698/698 [==============================] - 1s 916us/step - loss: 0.1116 - acc: 0.9298 - val_loss: 0.9882 - val_acc: 0.8947\n",
      "Epoch 3/5\n",
      "698/698 [==============================] - 0s 546us/step - loss: 0.0896 - acc: 0.9384 - val_loss: 0.8613 - val_acc: 0.8816\n",
      "Epoch 4/5\n",
      "698/698 [==============================] - 0s 588us/step - loss: 0.0712 - acc: 0.9570 - val_loss: 0.7600 - val_acc: 0.8947\n",
      "Epoch 5/5\n",
      "698/698 [==============================] - 1s 820us/step - loss: 0.0571 - acc: 0.9642 - val_loss: 0.6959 - val_acc: 0.8553\n",
      "acc: 85.53%\n",
      "Train on 699 samples, validate on 75 samples\n",
      "Epoch 1/5\n",
      "699/699 [==============================] - 2s 3ms/step - loss: 0.1471 - acc: 0.7597 - val_loss: 1.2000 - val_acc: 0.8400\n",
      "Epoch 2/5\n",
      "699/699 [==============================] - 1s 718us/step - loss: 0.1137 - acc: 0.9242 - val_loss: 1.0676 - val_acc: 0.8533\n",
      "Epoch 3/5\n",
      "699/699 [==============================] - 0s 582us/step - loss: 0.0927 - acc: 0.9442 - val_loss: 0.9637 - val_acc: 0.8667\n",
      "Epoch 4/5\n",
      "699/699 [==============================] - 0s 681us/step - loss: 0.0754 - acc: 0.9614 - val_loss: 0.8624 - val_acc: 0.8800\n",
      "Epoch 5/5\n",
      "699/699 [==============================] - 0s 640us/step - loss: 0.0611 - acc: 0.9628 - val_loss: 0.7606 - val_acc: 0.8933\n",
      "acc: 89.33%\n",
      "Train on 700 samples, validate on 74 samples\n",
      "Epoch 1/5\n",
      "700/700 [==============================] - 2s 3ms/step - loss: 0.1477 - acc: 0.7429 - val_loss: 1.1165 - val_acc: 0.9054\n",
      "Epoch 2/5\n",
      "700/700 [==============================] - 0s 617us/step - loss: 0.1115 - acc: 0.9314 - val_loss: 0.9677 - val_acc: 0.8919\n",
      "Epoch 3/5\n",
      "700/700 [==============================] - 1s 765us/step - loss: 0.0891 - acc: 0.9429 - val_loss: 0.8474 - val_acc: 0.9189\n",
      "Epoch 4/5\n",
      "700/700 [==============================] - 1s 744us/step - loss: 0.0725 - acc: 0.9529 - val_loss: 0.7591 - val_acc: 0.9054\n",
      "Epoch 5/5\n",
      "700/700 [==============================] - 1s 800us/step - loss: 0.0589 - acc: 0.9614 - val_loss: 0.6763 - val_acc: 0.9054\n",
      "acc: 90.54%\n",
      "89.41% (+/- 2.27%)\n"
     ]
    }
   ],
   "source": [
    "from sklearn.model_selection import StratifiedKFold\n",
    "kfold = StratifiedKFold(n_splits=10, shuffle=True, random_state=seed)\n",
    "cvscores = []\n",
    "for train, test in kfold.split(dataset, labels_int):\n",
    "    y_categorical = enc.fit_transform(labels_int[train].reshape((labels_int[train].shape[0]),1))\n",
    "    y_categorical_test = enc.fit_transform(labels_int[test].reshape((labels_int[test].shape[0]),1))\n",
    "    model = get_model()\n",
    "    model.fit(dataset[train], y_categorical, epochs = epochs,class_weight=class_weights, validation_data=(dataset[test], y_categorical_test))\n",
    "\n",
    "    scores = model.evaluate(dataset[test], y_categorical_test, verbose=0)\n",
    "    print(\"%s: %.2f%%\" % (model.metrics_names[1], scores[1]*100))\n",
    "    cvscores.append(scores[1] * 100)\n",
    "print(\"%.2f%% (+/- %.2f%%)\" % (np.mean(cvscores), np.std(cvscores)))"
   ]
  }
 ],
 "metadata": {
  "kernelspec": {
   "display_name": "Python 3",
   "language": "python",
   "name": "python3"
  },
  "language_info": {
   "codemirror_mode": {
    "name": "ipython",
    "version": 3
   },
   "file_extension": ".py",
   "mimetype": "text/x-python",
   "name": "python",
   "nbconvert_exporter": "python",
   "pygments_lexer": "ipython3",
   "version": "3.6.5"
  }
 },
 "nbformat": 4,
 "nbformat_minor": 2
}
